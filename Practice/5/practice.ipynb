{
 "cells": [
  {
   "cell_type": "code",
   "execution_count": 157,
   "id": "ccaecfd5",
   "metadata": {},
   "outputs": [
    {
     "data": {
      "text/html": [
       "<div>\n",
       "<style scoped>\n",
       "    .dataframe tbody tr th:only-of-type {\n",
       "        vertical-align: middle;\n",
       "    }\n",
       "\n",
       "    .dataframe tbody tr th {\n",
       "        vertical-align: top;\n",
       "    }\n",
       "\n",
       "    .dataframe thead th {\n",
       "        text-align: right;\n",
       "    }\n",
       "</style>\n",
       "<table border=\"1\" class=\"dataframe\">\n",
       "  <thead>\n",
       "    <tr style=\"text-align: right;\">\n",
       "      <th></th>\n",
       "      <th>id</th>\n",
       "      <th>url</th>\n",
       "      <th>shape</th>\n",
       "      <th>price</th>\n",
       "      <th>carat</th>\n",
       "      <th>cut</th>\n",
       "      <th>colour</th>\n",
       "      <th>clarity</th>\n",
       "      <th>report</th>\n",
       "      <th>type</th>\n",
       "      <th>date_fetched</th>\n",
       "    </tr>\n",
       "  </thead>\n",
       "  <tbody>\n",
       "    <tr>\n",
       "      <th>0</th>\n",
       "      <td>10086429</td>\n",
       "      <td>https://www.brilliantearth.com//loose-diamonds...</td>\n",
       "      <td>Round</td>\n",
       "      <td>400</td>\n",
       "      <td>0.30</td>\n",
       "      <td>Very Good</td>\n",
       "      <td>J</td>\n",
       "      <td>SI2</td>\n",
       "      <td>GIA</td>\n",
       "      <td>natural</td>\n",
       "      <td>2020-11-29 12-26 PM</td>\n",
       "    </tr>\n",
       "    <tr>\n",
       "      <th>1</th>\n",
       "      <td>10016334</td>\n",
       "      <td>https://www.brilliantearth.com//loose-diamonds...</td>\n",
       "      <td>Emerald</td>\n",
       "      <td>400</td>\n",
       "      <td>0.31</td>\n",
       "      <td>Ideal</td>\n",
       "      <td>I</td>\n",
       "      <td>SI1</td>\n",
       "      <td>GIA</td>\n",
       "      <td>natural</td>\n",
       "      <td>2020-11-29 12-26 PM</td>\n",
       "    </tr>\n",
       "    <tr>\n",
       "      <th>2</th>\n",
       "      <td>9947216</td>\n",
       "      <td>https://www.brilliantearth.com//loose-diamonds...</td>\n",
       "      <td>Emerald</td>\n",
       "      <td>400</td>\n",
       "      <td>0.30</td>\n",
       "      <td>Ideal</td>\n",
       "      <td>I</td>\n",
       "      <td>VS2</td>\n",
       "      <td>GIA</td>\n",
       "      <td>natural</td>\n",
       "      <td>2020-11-29 12-26 PM</td>\n",
       "    </tr>\n",
       "    <tr>\n",
       "      <th>3</th>\n",
       "      <td>10083437</td>\n",
       "      <td>https://www.brilliantearth.com//loose-diamonds...</td>\n",
       "      <td>Round</td>\n",
       "      <td>400</td>\n",
       "      <td>0.30</td>\n",
       "      <td>Ideal</td>\n",
       "      <td>I</td>\n",
       "      <td>SI2</td>\n",
       "      <td>GIA</td>\n",
       "      <td>natural</td>\n",
       "      <td>2020-11-29 12-26 PM</td>\n",
       "    </tr>\n",
       "    <tr>\n",
       "      <th>4</th>\n",
       "      <td>9946136</td>\n",
       "      <td>https://www.brilliantearth.com//loose-diamonds...</td>\n",
       "      <td>Emerald</td>\n",
       "      <td>400</td>\n",
       "      <td>0.30</td>\n",
       "      <td>Ideal</td>\n",
       "      <td>I</td>\n",
       "      <td>SI1</td>\n",
       "      <td>GIA</td>\n",
       "      <td>natural</td>\n",
       "      <td>2020-11-29 12-26 PM</td>\n",
       "    </tr>\n",
       "  </tbody>\n",
       "</table>\n",
       "</div>"
      ],
      "text/plain": [
       "         id                                                url    shape  \\\n",
       "0  10086429  https://www.brilliantearth.com//loose-diamonds...    Round   \n",
       "1  10016334  https://www.brilliantearth.com//loose-diamonds...  Emerald   \n",
       "2   9947216  https://www.brilliantearth.com//loose-diamonds...  Emerald   \n",
       "3  10083437  https://www.brilliantearth.com//loose-diamonds...    Round   \n",
       "4   9946136  https://www.brilliantearth.com//loose-diamonds...  Emerald   \n",
       "\n",
       "   price  carat        cut colour clarity report     type         date_fetched  \n",
       "0    400   0.30  Very Good      J     SI2    GIA  natural  2020-11-29 12-26 PM  \n",
       "1    400   0.31      Ideal      I     SI1    GIA  natural  2020-11-29 12-26 PM  \n",
       "2    400   0.30      Ideal      I     VS2    GIA  natural  2020-11-29 12-26 PM  \n",
       "3    400   0.30      Ideal      I     SI2    GIA  natural  2020-11-29 12-26 PM  \n",
       "4    400   0.30      Ideal      I     SI1    GIA  natural  2020-11-29 12-26 PM  "
      ]
     },
     "execution_count": 157,
     "metadata": {},
     "output_type": "execute_result"
    }
   ],
   "source": [
    "import pandas as pd\n",
    "import matplotlib.pyplot as plt\n",
    "import seaborn as sns\n",
    "\n",
    "df = pd.read_csv('diamonds.csv')\n",
    "df.head()"
   ]
  },
  {
   "cell_type": "code",
   "execution_count": 2,
   "id": "e1a9a821",
   "metadata": {},
   "outputs": [
    {
     "data": {
      "text/html": [
       "<div>\n",
       "<style scoped>\n",
       "    .dataframe tbody tr th:only-of-type {\n",
       "        vertical-align: middle;\n",
       "    }\n",
       "\n",
       "    .dataframe tbody tr th {\n",
       "        vertical-align: top;\n",
       "    }\n",
       "\n",
       "    .dataframe thead th {\n",
       "        text-align: right;\n",
       "    }\n",
       "</style>\n",
       "<table border=\"1\" class=\"dataframe\">\n",
       "  <thead>\n",
       "    <tr style=\"text-align: right;\">\n",
       "      <th></th>\n",
       "      <th>id</th>\n",
       "      <th>price</th>\n",
       "      <th>carat</th>\n",
       "    </tr>\n",
       "  </thead>\n",
       "  <tbody>\n",
       "    <tr>\n",
       "      <th>id</th>\n",
       "      <td>1.000000</td>\n",
       "      <td>0.053443</td>\n",
       "      <td>0.073112</td>\n",
       "    </tr>\n",
       "    <tr>\n",
       "      <th>price</th>\n",
       "      <td>0.053443</td>\n",
       "      <td>1.000000</td>\n",
       "      <td>0.612356</td>\n",
       "    </tr>\n",
       "    <tr>\n",
       "      <th>carat</th>\n",
       "      <td>0.073112</td>\n",
       "      <td>0.612356</td>\n",
       "      <td>1.000000</td>\n",
       "    </tr>\n",
       "  </tbody>\n",
       "</table>\n",
       "</div>"
      ],
      "text/plain": [
       "             id     price     carat\n",
       "id     1.000000  0.053443  0.073112\n",
       "price  0.053443  1.000000  0.612356\n",
       "carat  0.073112  0.612356  1.000000"
      ]
     },
     "execution_count": 2,
     "metadata": {},
     "output_type": "execute_result"
    }
   ],
   "source": [
    "df.corr()"
   ]
  },
  {
   "cell_type": "code",
   "execution_count": 151,
   "id": "4a7bd615",
   "metadata": {},
   "outputs": [
    {
     "data": {
      "text/html": [
       "<div>\n",
       "<style scoped>\n",
       "    .dataframe tbody tr th:only-of-type {\n",
       "        vertical-align: middle;\n",
       "    }\n",
       "\n",
       "    .dataframe tbody tr th {\n",
       "        vertical-align: top;\n",
       "    }\n",
       "\n",
       "    .dataframe thead th {\n",
       "        text-align: right;\n",
       "    }\n",
       "</style>\n",
       "<table border=\"1\" class=\"dataframe\">\n",
       "  <thead>\n",
       "    <tr style=\"text-align: right;\">\n",
       "      <th>clarity</th>\n",
       "      <th>IF</th>\n",
       "      <th>SI1</th>\n",
       "      <th>SI2</th>\n",
       "      <th>VS1</th>\n",
       "      <th>VS2</th>\n",
       "      <th>VVS1</th>\n",
       "      <th>VVS2</th>\n",
       "    </tr>\n",
       "    <tr>\n",
       "      <th>colour</th>\n",
       "      <th></th>\n",
       "      <th></th>\n",
       "      <th></th>\n",
       "      <th></th>\n",
       "      <th></th>\n",
       "      <th></th>\n",
       "      <th></th>\n",
       "    </tr>\n",
       "  </thead>\n",
       "  <tbody>\n",
       "    <tr>\n",
       "      <th>D</th>\n",
       "      <td>0.637221</td>\n",
       "      <td>0.600445</td>\n",
       "      <td>0.787750</td>\n",
       "      <td>0.644367</td>\n",
       "      <td>0.589721</td>\n",
       "      <td>0.631377</td>\n",
       "      <td>0.657140</td>\n",
       "    </tr>\n",
       "    <tr>\n",
       "      <th>E</th>\n",
       "      <td>0.511844</td>\n",
       "      <td>0.657685</td>\n",
       "      <td>0.804910</td>\n",
       "      <td>0.857326</td>\n",
       "      <td>0.712663</td>\n",
       "      <td>0.587633</td>\n",
       "      <td>0.716481</td>\n",
       "    </tr>\n",
       "    <tr>\n",
       "      <th>F</th>\n",
       "      <td>0.528435</td>\n",
       "      <td>0.773743</td>\n",
       "      <td>0.844107</td>\n",
       "      <td>0.910346</td>\n",
       "      <td>0.820818</td>\n",
       "      <td>0.621781</td>\n",
       "      <td>0.788692</td>\n",
       "    </tr>\n",
       "    <tr>\n",
       "      <th>G</th>\n",
       "      <td>0.563286</td>\n",
       "      <td>0.893470</td>\n",
       "      <td>1.027497</td>\n",
       "      <td>1.022403</td>\n",
       "      <td>0.982433</td>\n",
       "      <td>0.699588</td>\n",
       "      <td>0.857280</td>\n",
       "    </tr>\n",
       "    <tr>\n",
       "      <th>H</th>\n",
       "      <td>0.599926</td>\n",
       "      <td>0.982038</td>\n",
       "      <td>1.145557</td>\n",
       "      <td>1.055472</td>\n",
       "      <td>1.052510</td>\n",
       "      <td>0.751707</td>\n",
       "      <td>0.897407</td>\n",
       "    </tr>\n",
       "    <tr>\n",
       "      <th>I</th>\n",
       "      <td>0.616454</td>\n",
       "      <td>1.240961</td>\n",
       "      <td>1.305366</td>\n",
       "      <td>1.185557</td>\n",
       "      <td>1.283624</td>\n",
       "      <td>0.813594</td>\n",
       "      <td>1.058660</td>\n",
       "    </tr>\n",
       "    <tr>\n",
       "      <th>J</th>\n",
       "      <td>0.779750</td>\n",
       "      <td>1.360078</td>\n",
       "      <td>1.318524</td>\n",
       "      <td>1.392591</td>\n",
       "      <td>1.408297</td>\n",
       "      <td>0.828388</td>\n",
       "      <td>1.181132</td>\n",
       "    </tr>\n",
       "  </tbody>\n",
       "</table>\n",
       "</div>"
      ],
      "text/plain": [
       "clarity        IF       SI1       SI2       VS1       VS2      VVS1      VVS2\n",
       "colour                                                                       \n",
       "D        0.637221  0.600445  0.787750  0.644367  0.589721  0.631377  0.657140\n",
       "E        0.511844  0.657685  0.804910  0.857326  0.712663  0.587633  0.716481\n",
       "F        0.528435  0.773743  0.844107  0.910346  0.820818  0.621781  0.788692\n",
       "G        0.563286  0.893470  1.027497  1.022403  0.982433  0.699588  0.857280\n",
       "H        0.599926  0.982038  1.145557  1.055472  1.052510  0.751707  0.897407\n",
       "I        0.616454  1.240961  1.305366  1.185557  1.283624  0.813594  1.058660\n",
       "J        0.779750  1.360078  1.318524  1.392591  1.408297  0.828388  1.181132"
      ]
     },
     "execution_count": 151,
     "metadata": {},
     "output_type": "execute_result"
    }
   ],
   "source": [
    "pivot_table = df.pivot_table(values='carat', aggfunc = 'mean', index='colour', columns='clarity')\n",
    "pivot_table"
   ]
  },
  {
   "cell_type": "code",
   "execution_count": 152,
   "id": "29340c99",
   "metadata": {},
   "outputs": [
    {
     "data": {
      "text/html": [
       "<div>\n",
       "<style scoped>\n",
       "    .dataframe tbody tr th:only-of-type {\n",
       "        vertical-align: middle;\n",
       "    }\n",
       "\n",
       "    .dataframe tbody tr th {\n",
       "        vertical-align: top;\n",
       "    }\n",
       "\n",
       "    .dataframe thead th {\n",
       "        text-align: right;\n",
       "    }\n",
       "</style>\n",
       "<table border=\"1\" class=\"dataframe\">\n",
       "  <thead>\n",
       "    <tr style=\"text-align: right;\">\n",
       "      <th>clarity</th>\n",
       "      <th>SI2</th>\n",
       "      <th>SI1</th>\n",
       "      <th>VS2</th>\n",
       "      <th>VS1</th>\n",
       "      <th>VVS2</th>\n",
       "      <th>VVS1</th>\n",
       "      <th>IF</th>\n",
       "    </tr>\n",
       "    <tr>\n",
       "      <th>colour</th>\n",
       "      <th></th>\n",
       "      <th></th>\n",
       "      <th></th>\n",
       "      <th></th>\n",
       "      <th></th>\n",
       "      <th></th>\n",
       "      <th></th>\n",
       "    </tr>\n",
       "  </thead>\n",
       "  <tbody>\n",
       "    <tr>\n",
       "      <th>D</th>\n",
       "      <td>0.787750</td>\n",
       "      <td>0.600445</td>\n",
       "      <td>0.589721</td>\n",
       "      <td>0.644367</td>\n",
       "      <td>0.657140</td>\n",
       "      <td>0.631377</td>\n",
       "      <td>0.637221</td>\n",
       "    </tr>\n",
       "    <tr>\n",
       "      <th>E</th>\n",
       "      <td>0.804910</td>\n",
       "      <td>0.657685</td>\n",
       "      <td>0.712663</td>\n",
       "      <td>0.857326</td>\n",
       "      <td>0.716481</td>\n",
       "      <td>0.587633</td>\n",
       "      <td>0.511844</td>\n",
       "    </tr>\n",
       "    <tr>\n",
       "      <th>F</th>\n",
       "      <td>0.844107</td>\n",
       "      <td>0.773743</td>\n",
       "      <td>0.820818</td>\n",
       "      <td>0.910346</td>\n",
       "      <td>0.788692</td>\n",
       "      <td>0.621781</td>\n",
       "      <td>0.528435</td>\n",
       "    </tr>\n",
       "    <tr>\n",
       "      <th>G</th>\n",
       "      <td>1.027497</td>\n",
       "      <td>0.893470</td>\n",
       "      <td>0.982433</td>\n",
       "      <td>1.022403</td>\n",
       "      <td>0.857280</td>\n",
       "      <td>0.699588</td>\n",
       "      <td>0.563286</td>\n",
       "    </tr>\n",
       "    <tr>\n",
       "      <th>H</th>\n",
       "      <td>1.145557</td>\n",
       "      <td>0.982038</td>\n",
       "      <td>1.052510</td>\n",
       "      <td>1.055472</td>\n",
       "      <td>0.897407</td>\n",
       "      <td>0.751707</td>\n",
       "      <td>0.599926</td>\n",
       "    </tr>\n",
       "    <tr>\n",
       "      <th>I</th>\n",
       "      <td>1.305366</td>\n",
       "      <td>1.240961</td>\n",
       "      <td>1.283624</td>\n",
       "      <td>1.185557</td>\n",
       "      <td>1.058660</td>\n",
       "      <td>0.813594</td>\n",
       "      <td>0.616454</td>\n",
       "    </tr>\n",
       "    <tr>\n",
       "      <th>J</th>\n",
       "      <td>1.318524</td>\n",
       "      <td>1.360078</td>\n",
       "      <td>1.408297</td>\n",
       "      <td>1.392591</td>\n",
       "      <td>1.181132</td>\n",
       "      <td>0.828388</td>\n",
       "      <td>0.779750</td>\n",
       "    </tr>\n",
       "  </tbody>\n",
       "</table>\n",
       "</div>"
      ],
      "text/plain": [
       "clarity       SI2       SI1       VS2       VS1      VVS2      VVS1        IF\n",
       "colour                                                                       \n",
       "D        0.787750  0.600445  0.589721  0.644367  0.657140  0.631377  0.637221\n",
       "E        0.804910  0.657685  0.712663  0.857326  0.716481  0.587633  0.511844\n",
       "F        0.844107  0.773743  0.820818  0.910346  0.788692  0.621781  0.528435\n",
       "G        1.027497  0.893470  0.982433  1.022403  0.857280  0.699588  0.563286\n",
       "H        1.145557  0.982038  1.052510  1.055472  0.897407  0.751707  0.599926\n",
       "I        1.305366  1.240961  1.283624  1.185557  1.058660  0.813594  0.616454\n",
       "J        1.318524  1.360078  1.408297  1.392591  1.181132  0.828388  0.779750"
      ]
     },
     "execution_count": 152,
     "metadata": {},
     "output_type": "execute_result"
    }
   ],
   "source": [
    "pivot_table = pivot_table[['SI2', 'SI1', 'VS2', 'VS1', 'VVS2', 'VVS1', 'IF']]\n",
    "pivot_table"
   ]
  },
  {
   "cell_type": "code",
   "execution_count": 155,
   "id": "2c07895f",
   "metadata": {},
   "outputs": [],
   "source": [
    "new_pivot_table = pivot_table\n",
    "def f(origin):\n",
    "    plt.figure(figsize = (6,4), dpi = 100)\n",
    "    if origin == 'All':\n",
    "        new_pivot_table = pivot_table\n",
    "        sns.heatmap(new_pivot_table, cmap = 'mako')\n",
    "    elif origin == 'lab':\n",
    "        new_df = df[df['type'] == 'lab']\n",
    "        new_pivot_table = new_df.pivot_table(values='carat', aggfunc = 'mean', index='colour', columns='clarity')\n",
    "        new_pivot_table = new_pivot_table[['SI2', 'SI1', 'VS2', 'VS1', 'VVS2', 'VVS1', 'IF']]\n",
    "        sns.heatmap(new_pivot_table, cmap = 'mako')\n",
    "    else:\n",
    "        new_df = df[df['type'] == 'natural']\n",
    "        new_pivot_table = new_df.pivot_table(values='carat', aggfunc = 'mean', index='colour', columns='clarity')\n",
    "        new_pivot_table = new_pivot_table[['SI2', 'SI1', 'VS2', 'VS1', 'VVS2', 'VVS1', 'IF']]\n",
    "        sns.heatmap(new_pivot_table, cmap = 'mako')\n",
    "    #sns.heatmap(new_pivot_table, cmap = 'mako', center = 1)\n",
    "plt.show()"
   ]
  },
  {
   "cell_type": "code",
   "execution_count": 156,
   "id": "faf723cc",
   "metadata": {},
   "outputs": [
    {
     "data": {
      "application/vnd.jupyter.widget-view+json": {
       "model_id": "bb74719e84a549dab6ba744a0418729e",
       "version_major": 2,
       "version_minor": 0
      },
      "text/plain": [
       "interactive(children=(Dropdown(description='origin', options=('All', 'natural', 'lab'), value='All'), Output()…"
      ]
     },
     "metadata": {},
     "output_type": "display_data"
    },
    {
     "data": {
      "text/plain": [
       "<function __main__.f(origin)>"
      ]
     },
     "execution_count": 156,
     "metadata": {},
     "output_type": "execute_result"
    }
   ],
   "source": [
    "interact(f, origin = ['All', 'natural', 'lab'])"
   ]
  },
  {
   "cell_type": "code",
   "execution_count": 144,
   "id": "71f7762d",
   "metadata": {},
   "outputs": [],
   "source": [
    "new_pivot = pivot_table\n",
    "def f(origin):\n",
    "    plt.figure(figsize = (6,4), dpi = 100)\n",
    "    if origin == 'All':\n",
    "        sns.heatmap(new_pivot, cmap = 'mako')\n",
    "    elif origin == 'lab':\n",
    "        new_df = df[df['type'] == 'lab']\n",
    "        lab_pivot_table = new_df.pivot_table(values='carat', aggfunc = 'mean', index='colour', columns='clarity')\n",
    "        lab_pivot_table = lab_pivot_table[['SI2', 'SI1', 'VS2', 'VS1', 'VVS2', 'VVS1', 'IF']]\n",
    "        sns.heatmap(lab_pivot_table, cmap = 'mako')\n",
    "    else:\n",
    "        new_df = df[df['type'] == 'natural']\n",
    "        natural_pivot_table = new_df.pivot_table(values='carat', aggfunc = 'mean', index='colour', columns='clarity')\n",
    "        natural_pivot_table = natural_pivot_table[['SI2', 'SI1', 'VS2', 'VS1', 'VVS2', 'VVS1', 'IF']]\n",
    "        sns.heatmap(natural_pivot_table, cmap = 'mako')"
   ]
  },
  {
   "cell_type": "code",
   "execution_count": 145,
   "id": "4abac866",
   "metadata": {},
   "outputs": [
    {
     "data": {
      "application/vnd.jupyter.widget-view+json": {
       "model_id": "93f676fc07c848aea79e9eefc14174eb",
       "version_major": 2,
       "version_minor": 0
      },
      "text/plain": [
       "interactive(children=(Dropdown(description='origin', options=('All', 'lab', 'natural'), value='All'), Output()…"
      ]
     },
     "metadata": {},
     "output_type": "display_data"
    },
    {
     "data": {
      "text/plain": [
       "<function __main__.f(origin)>"
      ]
     },
     "execution_count": 145,
     "metadata": {},
     "output_type": "execute_result"
    }
   ],
   "source": [
    "interact(f, origin = ['All', 'lab', 'natural'])"
   ]
  },
  {
   "cell_type": "code",
   "execution_count": 150,
   "id": "2e3116f7",
   "metadata": {},
   "outputs": [
    {
     "data": {
      "text/plain": [
       "<AxesSubplot:xlabel='clarity', ylabel='colour'>"
      ]
     },
     "execution_count": 150,
     "metadata": {},
     "output_type": "execute_result"
    },
    {
     "data": {
      "image/png": "[encoded data removed]",
      "text/plain": [
       "<Figure size 640x480 with 2 Axes>"
      ]
     },
     "metadata": {},
     "output_type": "display_data"
    }
   ],
   "source": [
    "l = df[df['type'] == 'lab']\n",
    "l_table = l.pivot_table(values = 'carat', aggfunc = 'mean', index = 'colour', columns = 'clarity')\n",
    "l_table = l_table[['SI2', 'SI1', 'VS2', 'VS1', 'VVS2', 'VVS1', 'IF']]\n",
    "sns.heatmap(l_table, cmap = 'mako')"
   ]
  },
  {
   "cell_type": "code",
   "execution_count": 165,
   "id": "17016e68",
   "metadata": {},
   "outputs": [
    {
     "data": {
      "application/vnd.jupyter.widget-view+json": {
       "model_id": "baa261726eef42adbf5841bcc4a70b8c",
       "version_major": 2,
       "version_minor": 0
      },
      "text/plain": [
       "VBox(children=(ToggleButtons(button_style='info', options=('Baby boy names', 'Baby girl names'), value='Baby b…"
      ]
     },
     "metadata": {},
     "output_type": "display_data"
    },
    {
     "data": {
      "application/vnd.jupyter.widget-view+json": {
       "model_id": "0f5121d7853d4b639c89bc258ffe8d17",
       "version_major": 2,
       "version_minor": 0
      },
      "text/plain": [
       "Output()"
      ]
     },
     "metadata": {},
     "output_type": "display_data"
    }
   ],
   "source": [
    "import pandas as pd\n",
    "import matplotlib.pyplot as plt\n",
    "import seaborn as sns\n",
    "import ipywidgets as widgets\n",
    "\n",
    "df = pd.read_csv('names.csv')\n",
    "\n",
    "colors = ['#206095', '#004662', '#A8BD3A', '#27A0CC', '#118C7B', '#F66068']\n",
    "\n",
    "def main_plot(names, gender):\n",
    "    \n",
    "    df_gender = df[df['sex'] == gender]\n",
    "    \n",
    "    sns.set_style(\"whitegrid\")\n",
    "    fig, ax = plt.subplots(figsize=(10, 8))\n",
    "    \n",
    "    top_100_df = df_gender[df_gender['year'] == 2020].head(100)\n",
    "    for name in top_100_df['name']:\n",
    "        ax.plot(df_gender[df_gender['name']==name]['year'],\n",
    "                df_gender[df_gender['name']==name]['rank'],\n",
    "                color='lightgrey', alpha=0.5)\n",
    "        \n",
    "    \n",
    "    i = 0\n",
    "    for name in names[:6]:\n",
    "        ax.plot(df_gender[df_gender['name']==name.capitalize()]['year'],\n",
    "                df_gender[df_gender['name']==name.capitalize()]['rank'],\n",
    "                color=colors[i], linewidth=2)\n",
    "        ax.scatter(df_gender[df_gender['name']==name.capitalize()]['year'],\n",
    "                   df_gender[df_gender['name']==name.capitalize()]['rank'])\n",
    "        i = i + 1\n",
    "    \n",
    "\n",
    "    ax.invert_yaxis()\n",
    "    ax.set_title('Popularity ranking (1 being the most popular)')\n",
    "    ax.set_xlabel('')\n",
    "    ax.set_ylabel('')\n",
    "    ax.set_yticks([1, 100, 200, 300, 400, 500, 600, 700, 800, 900, 1000])\n",
    "    ax.set_xticks(range(1996, 2021, 2))\n",
    "    ax.grid(axis='x')\n",
    "    sns.despine(left=True, right=True, top=True)\n",
    "    \n",
    "#widgets\n",
    "names_box = widgets.Text(value = '', placeholder = 'Enter names separated by space', description = 'Names:')\n",
    "buttons = widgets.ToggleButtons(options=['Baby boy names', 'Baby girl names'], description = '', button_style = 'info')\n",
    "final_plot = widgets.interactive_output(main_plot, {'names': names_box, 'gender': buttons})\n",
    "\n",
    "display(widgets.VBox([buttons, names_box]))\n",
    "display(final_plot)\n"
   ]
  },
  {
   "cell_type": "code",
   "execution_count": null,
   "id": "c0376a01",
   "metadata": {},
   "outputs": [],
   "source": []
  }
 ],
 "metadata": {
  "kernelspec": {
   "display_name": "Python 3 (ipykernel)",
   "language": "python",
   "name": "python3"
  },
  "language_info": {
   "codemirror_mode": {
    "name": "ipython",
    "version": 3
   },
   "file_extension": ".py",
   "mimetype": "text/x-python",
   "name": "python",
   "nbconvert_exporter": "python",
   "pygments_lexer": "ipython3",
   "version": "3.9.12"
  }
 },
 "nbformat": 4,
 "nbformat_minor": 5
}
